{
 "cells": [
  {
   "cell_type": "code",
   "execution_count": null,
   "metadata": {},
   "outputs": [],
   "source": []
  },
  {
   "cell_type": "markdown",
   "metadata": {
    "colab_type": "text",
    "id": "8ydPsKENc5e0"
   },
   "source": [
    "## Load data"
   ]
  },
  {
   "cell_type": "code",
   "execution_count": null,
   "metadata": {
    "colab": {},
    "colab_type": "code",
    "id": "zN62bXIYbW_W"
   },
   "outputs": [],
   "source": [
    "import pandas as pd\n",
    "df = pd.read_csv('train_E6oV3lV.csv')"
   ]
  },
  {
   "cell_type": "code",
   "execution_count": null,
   "metadata": {
    "colab": {},
    "colab_type": "code",
    "id": "qmPStw_6f3iV"
   },
   "outputs": [],
   "source": [
    "# Convert original tweets from ascii to unicode\n",
    "import html\n",
    "def convert_to_unicode(text):\n",
    "    return html.unescape(text)\n",
    "\n",
    "df['tweet'] = df['tweet'].apply(convert_to_unicode)"
   ]
  },
  {
   "cell_type": "code",
   "execution_count": null,
   "metadata": {
    "colab": {},
    "colab_type": "code",
    "id": "2JApN85RoQqk"
   },
   "outputs": [],
   "source": []
  },
  {
   "cell_type": "code",
   "execution_count": null,
   "metadata": {
    "colab": {
     "base_uri": "https://localhost:8080/",
     "height": 221
    },
    "colab_type": "code",
    "executionInfo": {
     "elapsed": 2577,
     "status": "ok",
     "timestamp": 1588514491455,
     "user": {
      "displayName": "Zhenguo CUI",
      "photoUrl": "https://lh3.googleusercontent.com/a-/AOh14GgOm0_1Xk87CO6yhxrDunBA-doaZ2tJYqM-ZDbJ=s64",
      "userId": "12627899431939335042"
     },
     "user_tz": -120
    },
    "id": "1fPb1TT8b36l",
    "outputId": "1c806253-d74b-4213-c64e-480696b54bb8"
   },
   "outputs": [],
   "source": [
    "df['cleaned_tweet'] = df['tweet']\n",
    "df.head()"
   ]
  },
  {
   "cell_type": "markdown",
   "metadata": {
    "colab_type": "text",
    "id": "HRfgut-leAZH"
   },
   "source": [
    "# Preprocessing"
   ]
  },
  {
   "cell_type": "markdown",
   "metadata": {
    "colab_type": "text",
    "id": "_hdMrtq3c9Zx"
   },
   "source": [
    "## Remove url"
   ]
  },
  {
   "cell_type": "code",
   "execution_count": null,
   "metadata": {
    "colab": {
     "base_uri": "https://localhost:8080/",
     "height": 68
    },
    "colab_type": "code",
    "executionInfo": {
     "elapsed": 2526,
     "status": "ok",
     "timestamp": 1588514491457,
     "user": {
      "displayName": "Zhenguo CUI",
      "photoUrl": "https://lh3.googleusercontent.com/a-/AOh14GgOm0_1Xk87CO6yhxrDunBA-doaZ2tJYqM-ZDbJ=s64",
      "userId": "12627899431939335042"
     },
     "user_tz": -120
    },
    "id": "QdVrabOGbsaG",
    "outputId": "16c35a3a-1eb8-43f4-bced-cfd9e168c61e"
   },
   "outputs": [],
   "source": [
    "# Remove urls\n",
    "import re\n",
    "def remove_urls(text):\n",
    "    url_regex = ('http[s]?://(?:[a-zA-Z]|[0-9]|[$-_@.&+]|[!*\\(\\),]|(?:%[0-9a-fA-F][0-9a-fA-F]))+')\n",
    "    return re.sub(url_regex, '', text)\n",
    "# Example:\n",
    "text = \"Beautiful color combination of pink, orange, yellow & white. A Coll http://t.co/H0dYEBvnZB\"\n",
    "print(\"Example\")\n",
    "print(\"before: \", text)\n",
    "print(\"after : \", remove_urls(text))\n",
    "\n",
    "df['cleaned_tweet'] = df['cleaned_tweet'].apply(remove_urls)\n",
    "# df.head(5) # tips: uncomment this line to visualize result"
   ]
  },
  {
   "cell_type": "markdown",
   "metadata": {
    "colab_type": "text",
    "id": "o3nrRwtodDoh"
   },
   "source": [
    "## Remove mentions (@User)"
   ]
  },
  {
   "cell_type": "code",
   "execution_count": null,
   "metadata": {
    "colab": {
     "base_uri": "https://localhost:8080/",
     "height": 68
    },
    "colab_type": "code",
    "executionInfo": {
     "elapsed": 2489,
     "status": "ok",
     "timestamp": 1588514491461,
     "user": {
      "displayName": "Zhenguo CUI",
      "photoUrl": "https://lh3.googleusercontent.com/a-/AOh14GgOm0_1Xk87CO6yhxrDunBA-doaZ2tJYqM-ZDbJ=s64",
      "userId": "12627899431939335042"
     },
     "user_tz": -120
    },
    "id": "ZniKhfSzb3BA",
    "outputId": "2ae273c8-8955-4ea2-983e-4d5ab17b30f5"
   },
   "outputs": [],
   "source": [
    "# Remove mentions\n",
    "import re\n",
    "def remove_mentions(text):\n",
    "    mention_regex = '@[\\w\\-]+'\n",
    "    return re.sub(mention_regex, '', text)\n",
    "# Example:\n",
    "text = \"RT @C_G_Anderson: @viva_based she look like a tranny\"\n",
    "print(\"Example\")\n",
    "print(\"before: \", text)\n",
    "print(\"after : \", remove_mentions(text))\n",
    "\n",
    "df['cleaned_tweet'] = df['cleaned_tweet'].apply(remove_mentions)\n",
    "# df.head(5) # tips: uncomment this line to visualize result"
   ]
  },
  {
   "cell_type": "markdown",
   "metadata": {
    "colab_type": "text",
    "id": "Y6_sMsrDdGrD"
   },
   "source": [
    "## Remove RT (retweet)"
   ]
  },
  {
   "cell_type": "code",
   "execution_count": null,
   "metadata": {
    "colab": {},
    "colab_type": "code",
    "id": "M_xTfGbzbwi3"
   },
   "outputs": [],
   "source": [
    "# Remove 'RT'\n",
    "import re\n",
    "def remove_rt(text):\n",
    "    return re.sub('RT','', text)\n",
    "\n",
    "df['cleaned_tweet'] = df['cleaned_tweet'].apply(remove_rt)\n",
    "# df.head(5) # tips: uncomment this line to visualize result"
   ]
  },
  {
   "cell_type": "markdown",
   "metadata": {
    "colab_type": "text",
    "id": "BNnjAy4jdKfS"
   },
   "source": [
    "## Remove emoticons\n"
   ]
  },
  {
   "cell_type": "code",
   "execution_count": null,
   "metadata": {
    "colab": {
     "base_uri": "https://localhost:8080/",
     "height": 34
    },
    "colab_type": "code",
    "executionInfo": {
     "elapsed": 6566,
     "status": "ok",
     "timestamp": 1588514495618,
     "user": {
      "displayName": "Zhenguo CUI",
      "photoUrl": "https://lh3.googleusercontent.com/a-/AOh14GgOm0_1Xk87CO6yhxrDunBA-doaZ2tJYqM-ZDbJ=s64",
      "userId": "12627899431939335042"
     },
     "user_tz": -120
    },
    "id": "WoYPCL4YcMb9",
    "outputId": "116fc4e9-783d-44ec-9b56-77fcfc6f6727"
   },
   "outputs": [],
   "source": [
    "!pip install emot"
   ]
  },
  {
   "cell_type": "code",
   "execution_count": null,
   "metadata": {
    "colab": {
     "base_uri": "https://localhost:8080/",
     "height": 68
    },
    "colab_type": "code",
    "executionInfo": {
     "elapsed": 13969,
     "status": "ok",
     "timestamp": 1588514503074,
     "user": {
      "displayName": "Zhenguo CUI",
      "photoUrl": "https://lh3.googleusercontent.com/a-/AOh14GgOm0_1Xk87CO6yhxrDunBA-doaZ2tJYqM-ZDbJ=s64",
      "userId": "12627899431939335042"
     },
     "user_tz": -120
    },
    "id": "GYRSizLgcFnU",
    "outputId": "81722a9e-4baa-419d-8513-f412eaf69bee"
   },
   "outputs": [],
   "source": [
    "# Remove emoticons\n",
    "import html\n",
    "import emot # library to extract emojis and emoticons, installation: pip install emot\n",
    "import re\n",
    "def remove_emoticons(text):\n",
    "    text = html.unescape(text) # convert text to unicode format\n",
    "    remove_synonym_regex = '[\\s][or][ \\w-]+|,\\s\\w.+' # some emoticons have multiple meanings, keep the first meaning\n",
    "    emoticons = emot.emoticons(text) # find all emoticons by using the library emot\n",
    "    if len(emoticons) > 0 and \"value\" in emoticons: # not empty\n",
    "        emoticons_values = emoticons['value']\n",
    "        for i in range(len(emoticons_values)):\n",
    "            text = text.replace(emoticons_values[i], \" \")\n",
    "            text = re.sub('\\s+', ' ', text) # remove additional spaces\n",
    "    return text\n",
    "# Example:\n",
    "text = \"I love python :-):-(:/ yaya ho.. cute avi &#128553;\"\n",
    "text = html.unescape(text) # convert text to unicode format\n",
    "print(\"Example\")\n",
    "print(\"before: \", text)\n",
    "print(\"after : \", remove_emoticons(text))\n",
    "\n",
    "df['cleaned_tweet'] = df['cleaned_tweet'].apply(remove_emoticons)\n",
    "# df.head(5) # tips: uncomment this line to visualize result"
   ]
  },
  {
   "cell_type": "markdown",
   "metadata": {
    "colab_type": "text",
    "id": "8vR-5byDdWb7"
   },
   "source": [
    "## Remove emojis"
   ]
  },
  {
   "cell_type": "code",
   "execution_count": null,
   "metadata": {
    "colab": {
     "base_uri": "https://localhost:8080/",
     "height": 34
    },
    "colab_type": "code",
    "executionInfo": {
     "elapsed": 17854,
     "status": "ok",
     "timestamp": 1588514506994,
     "user": {
      "displayName": "Zhenguo CUI",
      "photoUrl": "https://lh3.googleusercontent.com/a-/AOh14GgOm0_1Xk87CO6yhxrDunBA-doaZ2tJYqM-ZDbJ=s64",
      "userId": "12627899431939335042"
     },
     "user_tz": -120
    },
    "id": "q_LqNmlHcT3e",
    "outputId": "5ae60152-863c-47a3-aadd-ecc29ef21139"
   },
   "outputs": [],
   "source": [
    "!pip install emoji"
   ]
  },
  {
   "cell_type": "code",
   "execution_count": null,
   "metadata": {
    "colab": {
     "base_uri": "https://localhost:8080/",
     "height": 68
    },
    "colab_type": "code",
    "executionInfo": {
     "elapsed": 28695,
     "status": "ok",
     "timestamp": 1588514517870,
     "user": {
      "displayName": "Zhenguo CUI",
      "photoUrl": "https://lh3.googleusercontent.com/a-/AOh14GgOm0_1Xk87CO6yhxrDunBA-doaZ2tJYqM-ZDbJ=s64",
      "userId": "12627899431939335042"
     },
     "user_tz": -120
    },
    "id": "pFDWnYLIcRMi",
    "outputId": "7d8757ef-e077-41e7-f848-3efd3b4a2761"
   },
   "outputs": [],
   "source": [
    "# Remove emojis\n",
    "import html\n",
    "import emoji\n",
    "def remove_emojis(text):\n",
    "    return emoji.get_emoji_regexp().sub(u'', html.unescape(text))\n",
    "# Example :\n",
    "text = \"I love python :-):-(:/ yaya ho.. cute avi tho RT @ViVaLa_Ari I had no idea she was sleep &#128553;\"\n",
    "text = html.unescape(text) # convert text to unicode format\n",
    "print(\"Example\")\n",
    "print(\"before: \", text)\n",
    "print(\"after : \", remove_emojis(text))\n",
    "\n",
    "df['cleaned_tweet'] = df['cleaned_tweet'].apply(remove_emojis)\n",
    "# df.head(5) # tips: uncomment this line to visualize result"
   ]
  },
  {
   "cell_type": "markdown",
   "metadata": {
    "colab_type": "text",
    "id": "86SY7gK3di3I"
   },
   "source": [
    "## Convert informal contraction to formal writing \n",
    "e.g. isn't -> is not"
   ]
  },
  {
   "cell_type": "code",
   "execution_count": null,
   "metadata": {
    "colab": {
     "base_uri": "https://localhost:8080/",
     "height": 85
    },
    "colab_type": "code",
    "executionInfo": {
     "elapsed": 32533,
     "status": "ok",
     "timestamp": 1588514521743,
     "user": {
      "displayName": "Zhenguo CUI",
      "photoUrl": "https://lh3.googleusercontent.com/a-/AOh14GgOm0_1Xk87CO6yhxrDunBA-doaZ2tJYqM-ZDbJ=s64",
      "userId": "12627899431939335042"
     },
     "user_tz": -120
    },
    "id": "fzxQtyPxeQMa",
    "outputId": "0a92f99b-ac07-45d2-e2b3-f546593f2f04"
   },
   "outputs": [],
   "source": [
    "!pip install contractions"
   ]
  },
  {
   "cell_type": "code",
   "execution_count": null,
   "metadata": {
    "colab": {
     "base_uri": "https://localhost:8080/",
     "height": 68
    },
    "colab_type": "code",
    "executionInfo": {
     "elapsed": 32499,
     "status": "ok",
     "timestamp": 1588514521747,
     "user": {
      "displayName": "Zhenguo CUI",
      "photoUrl": "https://lh3.googleusercontent.com/a-/AOh14GgOm0_1Xk87CO6yhxrDunBA-doaZ2tJYqM-ZDbJ=s64",
      "userId": "12627899431939335042"
     },
     "user_tz": -120
    },
    "id": "yqY-yhGFcd_6",
    "outputId": "b9062907-52fe-47d9-92a6-478e36dc0b03"
   },
   "outputs": [],
   "source": [
    "# Convert informal contraction to formal writing \n",
    "# e.g. isn't -> is not, mayn't -> may not, she'd -> she would, etc.\n",
    "import contractions # library for deal with informal contractions, installation: pip install contractions\n",
    "def convert_contraction(text):\n",
    "    return contractions.fix(text)\n",
    "# Example:\n",
    "text = \"isn't mayn't she'd yall asap i'm!\"\n",
    "print(\"Example\")\n",
    "print(\"before: \", text)\n",
    "print(\"after : \", convert_contraction(text))\n",
    "\n",
    "df['cleaned_tweet'] = df['cleaned_tweet'].apply(convert_contraction)\n",
    "# df.head(5) # tips: uncomment this line to visualize result"
   ]
  },
  {
   "cell_type": "markdown",
   "metadata": {
    "colab_type": "text",
    "id": "2QAvnmaLdup1"
   },
   "source": [
    "## Lowercase letters, clean non-ascii"
   ]
  },
  {
   "cell_type": "code",
   "execution_count": null,
   "metadata": {
    "colab": {},
    "colab_type": "code",
    "id": "7nXIC_ljcmNb"
   },
   "outputs": [],
   "source": [
    "# Lowercase letters\n",
    "df['cleaned_tweet'] = df['cleaned_tweet'].str.lower()\n",
    "# df.head(5) # tips: uncomment this line to visualize result"
   ]
  },
  {
   "cell_type": "code",
   "execution_count": null,
   "metadata": {
    "colab": {},
    "colab_type": "code",
    "id": "HWFJL8rpfoTx"
   },
   "outputs": [],
   "source": [
    "def clean_ascii(text):\n",
    "    # function to remove non-ASCII chars from data\n",
    "    return ''.join(i for i in text if ord(i) < 128)\n",
    "df['cleaned_tweet'] = df['cleaned_tweet'].apply(clean_ascii)\n",
    "\n",
    "def add_space_between_hashtags(text):\n",
    "    return text.replace(\"#\", \" #\")\n",
    "df['cleaned_tweet'] = df['cleaned_tweet'].apply(add_space_between_hashtags)"
   ]
  },
  {
   "cell_type": "code",
   "execution_count": null,
   "metadata": {
    "colab": {},
    "colab_type": "code",
    "id": "KZZqrerB0oAY"
   },
   "outputs": [],
   "source": [
    "# Remove whitespaces '\\s+' by a real space\n",
    "import re\n",
    "def remove_whitespaces(text):\n",
    "    space_regex = '\\s+'\n",
    "    text = re.sub(space_regex, ' ', text)\n",
    "    return text\n",
    "\n",
    "df['cleaned_tweet'] = df['cleaned_tweet'].apply(remove_whitespaces)"
   ]
  },
  {
   "cell_type": "markdown",
   "metadata": {
    "colab_type": "text",
    "id": "eTGuFvTfeIAH"
   },
   "source": [
    "# Save processed dataframe to csv"
   ]
  },
  {
   "cell_type": "code",
   "execution_count": null,
   "metadata": {
    "colab": {},
    "colab_type": "code",
    "id": "0FjOu7OUiGOb"
   },
   "outputs": [],
   "source": [
    "# Set column width for long text display\n",
    "pd.set_option('display.max_colwidth', 350)"
   ]
  },
  {
   "cell_type": "code",
   "execution_count": null,
   "metadata": {
    "colab": {
     "base_uri": "https://localhost:8080/",
     "height": 427
    },
    "colab_type": "code",
    "executionInfo": {
     "elapsed": 1243,
     "status": "ok",
     "timestamp": 1588514766235,
     "user": {
      "displayName": "Zhenguo CUI",
      "photoUrl": "https://lh3.googleusercontent.com/a-/AOh14GgOm0_1Xk87CO6yhxrDunBA-doaZ2tJYqM-ZDbJ=s64",
      "userId": "12627899431939335042"
     },
     "user_tz": -120
    },
    "id": "w53itUB52JJz",
    "outputId": "93abec0d-7690-4ef9-e194-bf8341190d47"
   },
   "outputs": [],
   "source": [
    "df[df.label == 1].tail(10)"
   ]
  },
  {
   "cell_type": "code",
   "execution_count": null,
   "metadata": {
    "colab": {},
    "colab_type": "code",
    "id": "lEyXpEZ02g_O"
   },
   "outputs": [],
   "source": [
    "df.to_csv('train_E6oV3lV_cleaned.csv')"
   ]
  },
  {
   "cell_type": "code",
   "execution_count": null,
   "metadata": {
    "colab": {},
    "colab_type": "code",
    "id": "UxM8I3Gn3Jg3"
   },
   "outputs": [],
   "source": []
  }
 ],
 "metadata": {
  "colab": {
   "authorship_tag": "ABX9TyN6yRNAkOGvc34xoyG43xIp",
   "collapsed_sections": [],
   "name": "Preprocessing_forBert.ipynb",
   "provenance": []
  },
  "kernelspec": {
   "display_name": "Python 3",
   "language": "python",
   "name": "python3"
  },
  "language_info": {
   "codemirror_mode": {
    "name": "ipython",
    "version": 3
   },
   "file_extension": ".py",
   "mimetype": "text/x-python",
   "name": "python",
   "nbconvert_exporter": "python",
   "pygments_lexer": "ipython3",
   "version": "3.7.6"
  }
 },
 "nbformat": 4,
 "nbformat_minor": 4
}
