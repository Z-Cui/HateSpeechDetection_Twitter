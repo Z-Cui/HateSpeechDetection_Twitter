{
 "cells": [
  {
   "cell_type": "code",
   "execution_count": null,
   "metadata": {},
   "outputs": [],
   "source": []
  },
  {
   "cell_type": "markdown",
   "metadata": {},
   "source": [
    "#### Load the training dataset"
   ]
  },
  {
   "cell_type": "code",
   "execution_count": 2,
   "metadata": {},
   "outputs": [],
   "source": [
    "import pandas as pd\n",
    "train = pd.read_csv('train_E6oV3lV.csv')"
   ]
  },
  {
   "cell_type": "code",
   "execution_count": 3,
   "metadata": {},
   "outputs": [
    {
     "data": {
      "text/html": [
       "<div>\n",
       "<style scoped>\n",
       "    .dataframe tbody tr th:only-of-type {\n",
       "        vertical-align: middle;\n",
       "    }\n",
       "\n",
       "    .dataframe tbody tr th {\n",
       "        vertical-align: top;\n",
       "    }\n",
       "\n",
       "    .dataframe thead th {\n",
       "        text-align: right;\n",
       "    }\n",
       "</style>\n",
       "<table border=\"1\" class=\"dataframe\">\n",
       "  <thead>\n",
       "    <tr style=\"text-align: right;\">\n",
       "      <th></th>\n",
       "      <th>id</th>\n",
       "      <th>label</th>\n",
       "      <th>tweet</th>\n",
       "    </tr>\n",
       "  </thead>\n",
       "  <tbody>\n",
       "    <tr>\n",
       "      <th>0</th>\n",
       "      <td>1</td>\n",
       "      <td>0</td>\n",
       "      <td>@user when a father is dysfunctional and is s...</td>\n",
       "    </tr>\n",
       "    <tr>\n",
       "      <th>1</th>\n",
       "      <td>2</td>\n",
       "      <td>0</td>\n",
       "      <td>@user @user thanks for #lyft credit i can't us...</td>\n",
       "    </tr>\n",
       "    <tr>\n",
       "      <th>2</th>\n",
       "      <td>3</td>\n",
       "      <td>0</td>\n",
       "      <td>bihday your majesty</td>\n",
       "    </tr>\n",
       "    <tr>\n",
       "      <th>3</th>\n",
       "      <td>4</td>\n",
       "      <td>0</td>\n",
       "      <td>#model   i love u take with u all the time in ...</td>\n",
       "    </tr>\n",
       "    <tr>\n",
       "      <th>4</th>\n",
       "      <td>5</td>\n",
       "      <td>0</td>\n",
       "      <td>factsguide: society now    #motivation</td>\n",
       "    </tr>\n",
       "  </tbody>\n",
       "</table>\n",
       "</div>"
      ],
      "text/plain": [
       "   id  label                                              tweet\n",
       "0   1      0   @user when a father is dysfunctional and is s...\n",
       "1   2      0  @user @user thanks for #lyft credit i can't us...\n",
       "2   3      0                                bihday your majesty\n",
       "3   4      0  #model   i love u take with u all the time in ...\n",
       "4   5      0             factsguide: society now    #motivation"
      ]
     },
     "execution_count": 3,
     "metadata": {},
     "output_type": "execute_result"
    }
   ],
   "source": [
    "train.head()"
   ]
  },
  {
   "cell_type": "code",
   "execution_count": null,
   "metadata": {},
   "outputs": [],
   "source": [
    "# Remove urls\n",
    "import re\n",
    "def remove_urls(text):\n",
    "    url_regex = ('http[s]?://(?:[a-zA-Z]|[0-9]|[$-_@.&+]|[!*\\(\\),]|(?:%[0-9a-fA-F][0-9a-fA-F]))+')\n",
    "    return re.sub(url_regex, '', text)\n",
    "# Example:\n",
    "text = \"Beautiful color combination of pink, orange, yellow & white. A Coll http://t.co/H0dYEBvnZB\"\n",
    "print(\"Example\")\n",
    "print(\"before: \", text)\n",
    "print(\"after : \", remove_urls(text))\n",
    "\n",
    "#df['cleaned_tweet'] = df['cleaned_tweet'].apply(remove_urls)\n",
    "#df.head(5) # tips: uncomment this line to visualize result"
   ]
  },
  {
   "cell_type": "code",
   "execution_count": null,
   "metadata": {},
   "outputs": [],
   "source": [
    "# Remove mentions\n",
    "import re\n",
    "def remove_mentions(text):\n",
    "    mention_regex = '@[\\w\\-]+'\n",
    "    return re.sub(mention_regex, '', text)\n",
    "# Example:\n",
    "text = \"RT @C_G_Anderson: @viva_based she look like a tranny\"\n",
    "print(\"Example\")\n",
    "print(\"before: \", text)\n",
    "print(\"after : \", remove_mentions(text))\n",
    "\n",
    "#df['cleaned_tweet'] = df['cleaned_tweet'].apply(remove_mentions)\n",
    "#df.head(5) # tips: uncomment this line to visualize result"
   ]
  },
  {
   "cell_type": "code",
   "execution_count": null,
   "metadata": {},
   "outputs": [],
   "source": [
    "# Remove 'RT'\n",
    "import re\n",
    "def remove_rt(text):\n",
    "    return re.sub('RT','', text)\n",
    "\n",
    "df['cleaned_tweet'] = df['cleaned_tweet'].apply(remove_rt)\n",
    "#df.head(5) # tips: uncomment this line to visualize result"
   ]
  },
  {
   "cell_type": "code",
   "execution_count": null,
   "metadata": {},
   "outputs": [],
   "source": [
    "# Remove emoticons\n",
    "import html\n",
    "import emot # library to extract emojis and emoticons, installation: pip install emot\n",
    "import re\n",
    "def remove_emoticons(text):\n",
    "    text = html.unescape(text) # convert text to unicode format\n",
    "    remove_synonym_regex = '[\\s][or][ \\w-]+|,\\s\\w.+' # some emoticons have multiple meanings, keep the first meaning\n",
    "    emoticons = emot.emoticons(text) # find all emoticons by using the library emot\n",
    "    if len(emoticons) > 0 and \"value\" in emoticons: # not empty\n",
    "        emoticons_values = emoticons['value']\n",
    "        for i in range(len(emoticons_values)):\n",
    "            text = text.replace(emoticons_values[i], \" \")\n",
    "            text = re.sub('\\s+', ' ', text) # remove additional spaces\n",
    "    return text\n",
    "# Example:\n",
    "text = \"I love python :-):-(:/ yaya ho.. cute avi &#128553;\"\n",
    "text = html.unescape(text) # convert text to unicode format\n",
    "print(\"Example\")\n",
    "print(\"before: \", text)\n",
    "print(\"after : \", remove_emoticons(text))\n",
    "\n",
    "df['cleaned_tweet'] = df['cleaned_tweet'].apply(remove_emoticons)\n",
    "df.head(5) # tips: uncomment this line to visualize result"
   ]
  },
  {
   "cell_type": "code",
   "execution_count": null,
   "metadata": {},
   "outputs": [],
   "source": [
    "# Remove emojis\n",
    "import html\n",
    "import emoji\n",
    "def remove_emojis(text):\n",
    "    return emoji.get_emoji_regexp().sub(u'', html.unescape(text))\n",
    "# Example :\n",
    "text = \"I love python :-):-(:/ yaya ho.. cute avi tho RT @ViVaLa_Ari I had no idea she was sleep &#128553;\"\n",
    "text = html.unescape(text) # convert text to unicode format\n",
    "print(\"Example\")\n",
    "print(\"before: \", text)\n",
    "print(\"after : \", remove_emojis(text))\n",
    "\n",
    "df['cleaned_tweet'] = df['cleaned_tweet'].apply(remove_emojis)\n",
    "#df.head(5) # tips: uncomment this line to visualize result"
   ]
  },
  {
   "cell_type": "code",
   "execution_count": null,
   "metadata": {},
   "outputs": [],
   "source": [
    "# Convert abbreviations to formal words\n",
    "import csv\n",
    "import re\n",
    "def convert_abbreviations_to_words(text):\n",
    "    text = text.split(\" \")\n",
    "    index_i = 0\n",
    "    for w in text:\n",
    "        dictFileName = \"slang_dict.txt\"\n",
    "        with open(dictFileName, \"r\") as dictFile:\n",
    "            # Reading file as CSV with delimiter as \"=\", abbreviations are stored in row[0] and meanings in row[1]\n",
    "            dict = csv.reader(dictFile, delimiter=\"=\")\n",
    "            # Remove special characters\n",
    "            w = re.sub('[^a-zA-Z0-9-_.]', '', w)\n",
    "            for row in dict:\n",
    "                if w.upper() == row[0]:\n",
    "                    text[index_i] = row[1]\n",
    "            dictFile.close()\n",
    "        index_i += 1\n",
    "    return ' '.join(text)\n",
    "# Example:\n",
    "text = \"idk afk idunno\"\n",
    "print(\"Example\")\n",
    "print(\"before: \", text)\n",
    "print(\"after : \", convert_abbreviations_to_words(text))\n",
    "\n",
    "df['cleaned_tweet'] = df['cleaned_tweet'].apply(convert_abbreviations_to_words)\n",
    "#df.head(5) # tips: uncomment this line to visualize result"
   ]
  },
  {
   "cell_type": "code",
   "execution_count": null,
   "metadata": {},
   "outputs": [],
   "source": [
    "# Convert informal contraction to formal writing \n",
    "# e.g. isn't -> is not, mayn't -> may not, she'd -> she would, etc.\n",
    "import contractions # library for deal with informal contractions, installation: pip install contractions\n",
    "def convert_contraction(text):\n",
    "    return contractions.fix(text)\n",
    "# Example:\n",
    "text = \"isn't mayn't she'd yall asap!\"\n",
    "print(\"Example\")\n",
    "print(\"before: \", text)\n",
    "print(\"after : \", convert_contraction(text))\n",
    "\n",
    "#df['cleaned_tweet'] = df['cleaned_tweet'].apply(convert_contraction)\n",
    "#df.head(5) # tips: uncomment this line to visualize result"
   ]
  },
  {
   "cell_type": "code",
   "execution_count": null,
   "metadata": {},
   "outputs": [],
   "source": [
    "# Convert hashtags to words\n",
    "import re\n",
    "import enchant\n",
    "import wordninja # library to split text into list of words, installation: pip install wordninja\n",
    "\n",
    "dict_UK = enchant.Dict('en_UK')\n",
    "dict_US = enchant.Dict('en_US')\n",
    "def convert_hashtags_to_words(text):\n",
    "    hashtag_regex = '(?!&)#(?!\\d\\d)[\\w-]+'\n",
    "    hashtags = re.findall(hashtag_regex, text)\n",
    "    for tag in hashtags:\n",
    "        cleantag = tag[1:]\n",
    "        if dict_US.check(cleantag) or dict_UK.check(cleantag):\n",
    "            text = re.sub(tag, cleantag, text)\n",
    "            pass\n",
    "        else:\n",
    "            hashtagSplit = wordninja.split(tag)\n",
    "            hashtagText = \" \".join(hashtagSplit)\n",
    "            text = re.sub(tag, hashtagText, text)\n",
    "    return text\n",
    "# Example:\n",
    "text = \"#thisisthelongesteverhashtagiwouldimagineseeingthatitcanbeaslongasiwant\"\n",
    "print(\"Example\")\n",
    "print(\"before: \", text)\n",
    "print(\"after : \", convert_hashtags_to_words(text))\n",
    "\n",
    "#df['cleaned_tweet'] = df['cleaned_tweet'].apply(convert_hashtags_to_words)\n",
    "#df.head(5) # tips: uncomment this line to visualize result"
   ]
  },
  {
   "cell_type": "code",
   "execution_count": null,
   "metadata": {},
   "outputs": [],
   "source": [
    "# Lowercase letters\n",
    "df['cleaned_tweet'] = df['cleaned_tweet'].str.lower()\n",
    "#df.head(5) # tips: uncomment this line to visualize result"
   ]
  },
  {
   "cell_type": "code",
   "execution_count": null,
   "metadata": {},
   "outputs": [],
   "source": []
  }
 ],
 "metadata": {
  "kernelspec": {
   "display_name": "Python 3",
   "language": "python",
   "name": "python3"
  },
  "language_info": {
   "codemirror_mode": {
    "name": "ipython",
    "version": 3
   },
   "file_extension": ".py",
   "mimetype": "text/x-python",
   "name": "python",
   "nbconvert_exporter": "python",
   "pygments_lexer": "ipython3",
   "version": "3.7.6"
  }
 },
 "nbformat": 4,
 "nbformat_minor": 4
}
