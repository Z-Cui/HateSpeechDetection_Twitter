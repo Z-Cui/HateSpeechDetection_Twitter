{
 "cells": [
  {
   "cell_type": "markdown",
   "metadata": {},
   "source": [
    "# Hate Speech Detection - PreProcessing"
   ]
  },
  {
   "cell_type": "markdown",
   "metadata": {},
   "source": [
    "### Steps:\n",
    "#### 1. Import dataset, convert tweet text from html ascii to unicode\n",
    "#### 2. Preprocessing (ordered):\n",
    "##### 3.1 remove whitespaces;\n",
    "##### 3.2 remove urls;\n",
    "##### 3.3 remove mentions;\n",
    "##### 3.4 remove retweet (RT);\n",
    "##### 3.5 Convert abbreviations to formal words\n",
    "##### 3.6 convert contractions;\n",
    "##### 3.7 convert emoticons to words OR remove emoticons\n",
    "##### 3.8 convert emojis to words OR remove emojis\n",
    "##### 3.9 convert hashtags to words OR remove hashtags\n",
    "##### 3.10 remove punctuations\n",
    "##### 3.11 lowercase letters\n",
    "##### 3.12 spell checker (select 1 of 3 functions with different libraries)\n",
    "\n",
    "#### 3. Split dataset into train and test\n",
    "#### 4. EDA of original dataset"
   ]
  },
  {
   "cell_type": "markdown",
   "metadata": {},
   "source": [
    "### Import dataset and split into train and test"
   ]
  },
  {
   "cell_type": "code",
   "execution_count": null,
   "metadata": {},
   "outputs": [],
   "source": [
    "# Load the dataset as pandas.dataframe object, set the first column as the index column\n",
    "import pandas as pd\n",
    "df = pd.read_csv(\"labeled_data.csv\", index_col=0)"
   ]
  },
  {
   "cell_type": "code",
   "execution_count": null,
   "metadata": {},
   "outputs": [],
   "source": [
    "# Convert original tweets from ascii to unicode\n",
    "import html\n",
    "def convert_to_unicode(text):\n",
    "    return html.unescape(text)\n",
    "\n",
    "df['tweet'] = df['tweet'].apply(convert_to_unicode)"
   ]
  },
  {
   "cell_type": "code",
   "execution_count": null,
   "metadata": {},
   "outputs": [],
   "source": [
    "# Set column width for long text display\n",
    "pd.set_option('display.max_colwidth', 350)"
   ]
  },
  {
   "cell_type": "code",
   "execution_count": null,
   "metadata": {},
   "outputs": [],
   "source": [
    "df.head(5)"
   ]
  },
  {
   "cell_type": "code",
   "execution_count": null,
   "metadata": {},
   "outputs": [],
   "source": []
  },
  {
   "cell_type": "code",
   "execution_count": null,
   "metadata": {},
   "outputs": [],
   "source": [
    "# Visualize class distribution of dataset\n",
    "import matplotlib.pyplot as plt\n",
    "import seaborn as sns\n",
    "fig, axes = plt.subplots(ncols=2, figsize=(8, 3), dpi=100)\n",
    "plt.tight_layout()\n",
    "\n",
    "HATESPEECH_TWEETS = df['class'] == 2\n",
    "OFFENSIVE_TWEETS = df['class'] == 1\n",
    "NEITHER_TWEETS = df['class'] == 0\n",
    "\n",
    "df.groupby('class').count()['count'].plot(kind='pie', ax=axes[0], labels=['Neither', 'Offensive', 'HateSpeech'], subplots=True)\n",
    "sns.countplot(x=df['class'], hue=df['class'], ax=axes[1])\n",
    "\n",
    "axes[0].set_ylabel('')\n",
    "axes[1].set_ylabel('')\n",
    "axes[1].set_xticklabels(['Neither', 'Offensive', 'HateSpeech'])\n",
    "axes[0].tick_params(axis='x', labelsize=6)\n",
    "axes[0].tick_params(axis='y', labelsize=6)\n",
    "axes[1].tick_params(axis='x', labelsize=6)\n",
    "axes[1].tick_params(axis='y', labelsize=6)\n",
    "\n",
    "axes[0].set_title('Target Distribution in dataset (24783 tweets)', fontsize=9)\n",
    "axes[1].set_title('Target Count in dataset (24783 tweets)', fontsize=9)\n",
    "\n",
    "plt.show()"
   ]
  },
  {
   "cell_type": "code",
   "execution_count": null,
   "metadata": {},
   "outputs": [],
   "source": []
  },
  {
   "cell_type": "code",
   "execution_count": null,
   "metadata": {},
   "outputs": [],
   "source": [
    "# Record the meta features of original tweets\n",
    "import string\n",
    "import numpy as np\n",
    "from wordcloud import STOPWORDS\n",
    "\n",
    "df['word_count'] = df['tweet'].apply(lambda x: len(str(x).split()))\n",
    "df['unique_word_count'] = df['tweet'].apply(lambda x: len(set(str(x).split())))\n",
    "df['stop_word_count'] = df['tweet'].apply(lambda x: len([w for w in str(x).lower().split() if w in STOPWORDS]))\n",
    "df['mean_word_length'] = df['tweet'].apply(lambda x: np.mean([len(w) for w in str(x).split()]))\n",
    "df['char_count'] = df['tweet'].apply(lambda x: len(str(x)))\n",
    "df['punctuation_count'] = df['tweet'].apply(lambda x: len([c for c in str(x) if c in string.punctuation]))"
   ]
  },
  {
   "cell_type": "code",
   "execution_count": null,
   "metadata": {},
   "outputs": [],
   "source": [
    "# Count mentions, urls and hashtags\n",
    "import re # regular expression library\n",
    "url_regex = ('http[s]?://(?:[a-zA-Z]|[0-9]|[$-_@.&+]|[!*\\(\\),]|(?:%[0-9a-fA-F][0-9a-fA-F]))+')\n",
    "mention_regex = '@[\\w\\-]+'\n",
    "hashtag_regex = '(?!&)#(?!\\d\\d)[\\w-]+'\n",
    "\n",
    "df['mention_count'] = df['tweet'].apply(lambda x: len(re.findall(mention_regex, x)))\n",
    "df['url_count'] = df['tweet'].apply(lambda x: len(re.findall(url_regex, x)))\n",
    "df['hashtag_count'] = df['tweet'].apply(lambda x: len(re.findall(hashtag_regex, x)))"
   ]
  },
  {
   "cell_type": "code",
   "execution_count": null,
   "metadata": {},
   "outputs": [],
   "source": [
    "# Visualize df before preprocessing\n",
    "df.head(3)"
   ]
  },
  {
   "cell_type": "code",
   "execution_count": null,
   "metadata": {},
   "outputs": [],
   "source": []
  },
  {
   "cell_type": "markdown",
   "metadata": {},
   "source": [
    "## Preprocessing"
   ]
  },
  {
   "cell_type": "code",
   "execution_count": null,
   "metadata": {},
   "outputs": [],
   "source": [
    "# Remove whitespaces '\\s+' by a real space\n",
    "import re\n",
    "def remove_whitespaces(text):\n",
    "    space_regex = '\\s+'\n",
    "    text = re.sub(space_regex, ' ', text)\n",
    "    return text\n",
    "\n",
    "df['cleaned_tweet'] = df['tweet'].apply(remove_whitespaces)\n",
    "#df.head(5) # tips: uncomment this line to visualize result"
   ]
  },
  {
   "cell_type": "code",
   "execution_count": null,
   "metadata": {},
   "outputs": [],
   "source": [
    "# Remove urls\n",
    "import re\n",
    "def remove_urls(text):\n",
    "    url_regex = ('http[s]?://(?:[a-zA-Z]|[0-9]|[$-_@.&+]|[!*\\(\\),]|(?:%[0-9a-fA-F][0-9a-fA-F]))+')\n",
    "    return re.sub(url_regex, '', text)\n",
    "# Example:\n",
    "text = \"Beautiful color combination of pink, orange, yellow & white. A Coll http://t.co/H0dYEBvnZB\"\n",
    "print(\"Example\")\n",
    "print(\"before: \", text)\n",
    "print(\"after : \", remove_urls(text))\n",
    "\n",
    "#df['cleaned_tweet'] = df['cleaned_tweet'].apply(remove_urls)\n",
    "#df.head(5) # tips: uncomment this line to visualize result"
   ]
  },
  {
   "cell_type": "code",
   "execution_count": null,
   "metadata": {},
   "outputs": [],
   "source": [
    "# Remove mentions\n",
    "import re\n",
    "def remove_mentions(text):\n",
    "    mention_regex = '@[\\w\\-]+'\n",
    "    return re.sub(mention_regex, '', text)\n",
    "# Example:\n",
    "text = \"RT @C_G_Anderson: @viva_based she look like a tranny\"\n",
    "print(\"Example\")\n",
    "print(\"before: \", text)\n",
    "print(\"after : \", remove_mentions(text))\n",
    "\n",
    "#df['cleaned_tweet'] = df['cleaned_tweet'].apply(remove_mentions)\n",
    "#df.head(5) # tips: uncomment this line to visualize result"
   ]
  },
  {
   "cell_type": "code",
   "execution_count": null,
   "metadata": {},
   "outputs": [],
   "source": [
    "# Remove 'RT'\n",
    "import re\n",
    "def remove_rt(text):\n",
    "    return re.sub('RT','', text)\n",
    "\n",
    "df['cleaned_tweet'] = df['cleaned_tweet'].apply(remove_rt)\n",
    "#df.head(5) # tips: uncomment this line to visualize result"
   ]
  },
  {
   "cell_type": "markdown",
   "metadata": {},
   "source": [
    "#### Following function [convert_abbreviations_to_words] takes very long time!\n",
    "##### Please use pickle function to save your preprocessed data (at the end)"
   ]
  },
  {
   "cell_type": "code",
   "execution_count": null,
   "metadata": {},
   "outputs": [],
   "source": [
    "# Convert abbreviations to formal words\n",
    "import csv\n",
    "import re\n",
    "def convert_abbreviations_to_words(text):\n",
    "    text = text.split(\" \")\n",
    "    index_i = 0\n",
    "    for w in text:\n",
    "        dictFileName = \"slang_dict.txt\"\n",
    "        with open(dictFileName, \"r\") as dictFile:\n",
    "            # Reading file as CSV with delimiter as \"=\", abbreviations are stored in row[0] and meanings in row[1]\n",
    "            dict = csv.reader(dictFile, delimiter=\"=\")\n",
    "            # Remove special characters\n",
    "            w = re.sub('[^a-zA-Z0-9-_.]', '', w)\n",
    "            for row in dict:\n",
    "                if w.upper() == row[0]:\n",
    "                    text[index_i] = row[1]\n",
    "            dictFile.close()\n",
    "        index_i += 1\n",
    "    return ' '.join(text)\n",
    "# Example:\n",
    "text = \"idk afk idunno\"\n",
    "print(\"Example\")\n",
    "print(\"before: \", text)\n",
    "print(\"after : \", convert_abbreviations_to_words(text))\n",
    "\n",
    "df['cleaned_tweet'] = df['cleaned_tweet'].apply(convert_abbreviations_to_words)\n",
    "#df.head(5) # tips: uncomment this line to visualize result"
   ]
  },
  {
   "cell_type": "code",
   "execution_count": 1,
   "metadata": {},
   "outputs": [
    {
     "name": "stdout",
     "output_type": "stream",
     "text": [
      "Example\n",
      "before:  isn't mayn't she'd yall asap!\n",
      "after :  is not may not she would you all as soon as possible!\n"
     ]
    }
   ],
   "source": [
    "# Convert informal contraction to formal writing \n",
    "# e.g. isn't -> is not, mayn't -> may not, she'd -> she would, etc.\n",
    "import contractions # library for deal with informal contractions, installation: pip install contractions\n",
    "def convert_contraction(text):\n",
    "    return contractions.fix(text)\n",
    "# Example:\n",
    "text = \"isn't mayn't she'd yall asap!\"\n",
    "print(\"Example\")\n",
    "print(\"before: \", text)\n",
    "print(\"after : \", convert_contraction(text))\n",
    "\n",
    "#df['cleaned_tweet'] = df['cleaned_tweet'].apply(convert_contraction)\n",
    "#df.head(5) # tips: uncomment this line to visualize result"
   ]
  },
  {
   "cell_type": "code",
   "execution_count": null,
   "metadata": {},
   "outputs": [],
   "source": []
  },
  {
   "cell_type": "markdown",
   "metadata": {},
   "source": [
    "### Please use one of following functions:\n",
    "#### (1) convert emoticons to words\n",
    "#### (2) remove emoticons"
   ]
  },
  {
   "cell_type": "code",
   "execution_count": null,
   "metadata": {},
   "outputs": [],
   "source": [
    "# Convert emoticons to words\n",
    "import html\n",
    "import emot # library to extract emojis and emoticons, installation: pip install emot\n",
    "import re\n",
    "def convert_emoticons_to_words(text):\n",
    "    text = html.unescape(text) # convert text to unicode format\n",
    "    remove_synonym_regex = '[\\s][or][ \\w-]+|,\\s\\w.+' # some emoticons have multiple meanings, keep the first meaning\n",
    "    emoticons = emot.emoticons(text) # find all emoticons by using the library emot\n",
    "    if len(emoticons) > 0 and \"value\" in emoticons and \"mean\" in emoticons: # not empty\n",
    "        emoticons_values = emoticons['value']\n",
    "        emoticons_meanings = emoticons['mean']\n",
    "        for i in range(len(emoticons_values)):\n",
    "            emoticons_meanings[i] = re.sub(remove_synonym_regex, ' ', emoticons_meanings[i])\n",
    "            text = text.replace(emoticons_values[i], \" \"+emoticons_meanings[i]+\" \")\n",
    "            text = re.sub('\\s+', ' ', text) # remove additional spaces\n",
    "    return text\n",
    "# Example:\n",
    "text = \"I love python :-):-(:/ yaya ho.. cute avi &#128553;\"\n",
    "text = html.unescape(text) # convert text to unicode format\n",
    "print(\"Example\")\n",
    "print(\"before: \", text)\n",
    "print(\"after : \", convert_emoticons_to_words(text))\n",
    "\n",
    "df['cleaned_tweet'] = df['cleaned_tweet'].apply(convert_emoticons_to_words)\n",
    "#df.head(5) # tips: uncomment this line to visualize result"
   ]
  },
  {
   "cell_type": "code",
   "execution_count": null,
   "metadata": {},
   "outputs": [],
   "source": [
    "# Remove emoticons\n",
    "import html\n",
    "import emot # library to extract emojis and emoticons, installation: pip install emot\n",
    "import re\n",
    "def remove_emoticons(text):\n",
    "    text = html.unescape(text) # convert text to unicode format\n",
    "    remove_synonym_regex = '[\\s][or][ \\w-]+|,\\s\\w.+' # some emoticons have multiple meanings, keep the first meaning\n",
    "    emoticons = emot.emoticons(text) # find all emoticons by using the library emot\n",
    "    if len(emoticons) > 0 and \"value\" in emoticons: # not empty\n",
    "        emoticons_values = emoticons['value']\n",
    "        for i in range(len(emoticons_values)):\n",
    "            text = text.replace(emoticons_values[i], \" \")\n",
    "            text = re.sub('\\s+', ' ', text) # remove additional spaces\n",
    "    return text\n",
    "# Example:\n",
    "text = \"I love python :-):-(:/ yaya ho.. cute avi &#128553;\"\n",
    "text = html.unescape(text) # convert text to unicode format\n",
    "print(\"Example\")\n",
    "print(\"before: \", text)\n",
    "print(\"after : \", remove_emoticons(text))\n",
    "\n",
    "df['cleaned_tweet'] = df['cleaned_tweet'].apply(remove_emoticons)\n",
    "#df.head(5) # tips: uncomment this line to visualize result"
   ]
  },
  {
   "cell_type": "markdown",
   "metadata": {},
   "source": [
    "### Please use one of following functions:\n",
    "#### (1) convert emojis to words\n",
    "#### (2) remove emojis"
   ]
  },
  {
   "cell_type": "code",
   "execution_count": null,
   "metadata": {},
   "outputs": [],
   "source": [
    "# Convert emojis to words\n",
    "import html\n",
    "import emoji # library to convert emoji to text\n",
    "def convert_emojis_to_words(text):\n",
    "    text = emoji.demojize(html.unescape(text))\n",
    "    #text = text.replace(\":\", \" \")\n",
    "    return ' '.join(text.split())\n",
    "# Example :\n",
    "text = \"I love python :-):-(:/ yaya ho.. cute avi tho &#128553;\"\n",
    "text = html.unescape(text) # convert text to unicode format\n",
    "print(\"Example\")\n",
    "print(\"before: \", text)\n",
    "print(\"after : \", convert_emojis_to_words(text))\n",
    "\n",
    "df['cleaned_tweet'] = df['cleaned_tweet'].apply(convert_emojis_to_words)\n",
    "#df.head(5) # tips: uncomment this line to visualize result"
   ]
  },
  {
   "cell_type": "code",
   "execution_count": null,
   "metadata": {},
   "outputs": [],
   "source": [
    "# Remove emojis\n",
    "import html\n",
    "import emoji\n",
    "def remove_emojis(text):\n",
    "    return emoji.get_emoji_regexp().sub(u'', html.unescape(text))\n",
    "# Example :\n",
    "text = \"I love python :-):-(:/ yaya ho.. cute avi tho RT @ViVaLa_Ari I had no idea she was sleep &#128553;\"\n",
    "text = html.unescape(text) # convert text to unicode format\n",
    "print(\"Example\")\n",
    "print(\"before: \", text)\n",
    "print(\"after : \", remove_emojis(text))\n",
    "\n",
    "df['cleaned_tweet'] = df['cleaned_tweet'].apply(remove_emojis)\n",
    "#df.head(5) # tips: uncomment this line to visualize result"
   ]
  },
  {
   "cell_type": "markdown",
   "metadata": {},
   "source": [
    "### Please use one of following functions:\n",
    "#### (1) convert hashtags to words\n",
    "#### (2) remove hashtags"
   ]
  },
  {
   "cell_type": "code",
   "execution_count": 2,
   "metadata": {},
   "outputs": [
    {
     "name": "stdout",
     "output_type": "stream",
     "text": [
      "Example\n",
      "before:  #thisisthelongesteverhashtagiwouldimagineseeingthatitcanbeaslongasiwant\n",
      "after :  this is the longest ever hash tagi would imagine seeing that it can be as long as i want\n"
     ]
    }
   ],
   "source": [
    "# Convert hashtags to words\n",
    "import re\n",
    "import enchant\n",
    "import wordninja # library to split text into list of words, installation: pip install wordninja\n",
    "\n",
    "dict_UK = enchant.Dict('en_UK')\n",
    "dict_US = enchant.Dict('en_US')\n",
    "def convert_hashtags_to_words(text):\n",
    "    hashtag_regex = '(?!&)#(?!\\d\\d)[\\w-]+'\n",
    "    hashtags = re.findall(hashtag_regex, text)\n",
    "    for tag in hashtags:\n",
    "        cleantag = tag[1:]\n",
    "        if dict_US.check(cleantag) or dict_UK.check(cleantag):\n",
    "            text = re.sub(tag, cleantag, text)\n",
    "            pass\n",
    "        else:\n",
    "            hashtagSplit = wordninja.split(tag)\n",
    "            hashtagText = \" \".join(hashtagSplit)\n",
    "            text = re.sub(tag, hashtagText, text)\n",
    "    return text\n",
    "# Example:\n",
    "text = \"#thisisthelongesteverhashtagiwouldimagineseeingthatitcanbeaslongasiwant\"\n",
    "print(\"Example\")\n",
    "print(\"before: \", text)\n",
    "print(\"after : \", convert_hashtags_to_words(text))\n",
    "\n",
    "#df['cleaned_tweet'] = df['cleaned_tweet'].apply(convert_hashtags_to_words)\n",
    "#df.head(5) # tips: uncomment this line to visualize result"
   ]
  },
  {
   "cell_type": "code",
   "execution_count": null,
   "metadata": {},
   "outputs": [],
   "source": [
    "# Remove hashtags\n",
    "import re\n",
    "def remove_hashtags(text):\n",
    "    hashtag_regex = '(?!&)#(?!\\d\\d)[\\w-]+'\n",
    "    text = re.sub(hashtag_regex, ' ', text)\n",
    "    text = re.sub('\\s+', ' ', text) # remove additional spaces\n",
    "    return text\n",
    "# Example :\n",
    "text = \"kk #lol #whatyoudo;\"\n",
    "print(\"Example\")\n",
    "print(\"before: \", text)\n",
    "print(\"after : \", remove_hashtags(text))\n",
    "\n",
    "df['cleaned_tweet'] = df['cleaned_tweet'].apply(remove_hashtags)\n",
    "#df.head(5) # tips: uncomment this line to visualize result"
   ]
  },
  {
   "cell_type": "code",
   "execution_count": null,
   "metadata": {},
   "outputs": [],
   "source": []
  },
  {
   "cell_type": "markdown",
   "metadata": {},
   "source": [
    "### Remove punctuations and lowercase letters"
   ]
  },
  {
   "cell_type": "code",
   "execution_count": null,
   "metadata": {},
   "outputs": [],
   "source": [
    "# Remove punctuations \". , ! ? : ; - =\"\n",
    "def remove_punctuations(text):\n",
    "    punc_regex = '[\\.\\,\\!\\?\\:\\;\\-\\=]'\n",
    "    return re.sub(punc_regex, ' ', text)\n",
    "\n",
    "df['cleaned_tweet'] = df['cleaned_tweet'].apply(remove_punctuations)\n",
    "#df.head(5) # tips: uncomment this line to visualize result"
   ]
  },
  {
   "cell_type": "code",
   "execution_count": null,
   "metadata": {},
   "outputs": [],
   "source": [
    "# Lowercase letters\n",
    "df['cleaned_tweet'] = df['cleaned_tweet'].str.lower()\n",
    "#df.head(5) # tips: uncomment this line to visualize result"
   ]
  },
  {
   "cell_type": "code",
   "execution_count": null,
   "metadata": {},
   "outputs": [],
   "source": []
  },
  {
   "cell_type": "markdown",
   "metadata": {},
   "source": [
    "## Removing stopwords can be used before spellchecker, it reduces dimensionality of vocabulary\n",
    "### for benchmark, please try to use this function at the end of preprocessing, because spellchecker might correct misspelling words to stopwords"
   ]
  },
  {
   "cell_type": "code",
   "execution_count": 3,
   "metadata": {},
   "outputs": [
    {
     "name": "stdout",
     "output_type": "stream",
     "text": [
      "Example\n",
      "before:  I wanna be a good student in my class\n",
      "after :  wanna good student class\n"
     ]
    }
   ],
   "source": [
    "# Remove stopwords\n",
    "from nltk.corpus import stopwords\n",
    "def remove_stopwords(text):\n",
    "    stopwords_list = stopwords.words('english')\n",
    "    # Some words which might indicate a certain sentiment are kept via a whitelist\n",
    "    whitelist = [\"n't\", \"not\", \"no\"]\n",
    "    words = text.split() \n",
    "    clean_words = [word for word in words if (word not in stopwords_list or word in whitelist) and len(word) > 1] \n",
    "    return \" \".join(clean_words)\n",
    "# Example:\n",
    "text = \"I wanna be a good student in my class\"\n",
    "print(\"Example\")\n",
    "print(\"before: \", text)\n",
    "print(\"after : \", remove_stopwords(text))\n",
    "\n",
    "#df['cleaned_tweet'] = df['cleaned_tweet'].apply(remove_stopwords)\n",
    "#df.head(5) # tips: uncomment this line to visualize result"
   ]
  },
  {
   "cell_type": "code",
   "execution_count": null,
   "metadata": {},
   "outputs": [],
   "source": []
  },
  {
   "cell_type": "markdown",
   "metadata": {},
   "source": [
    "### Please use one of following functions:\n",
    "#### (1) spellchecker with pyspellchecker\n",
    "#### (2) spellchecker with TextBlob\n",
    "#### (3) spellchecker with autocorrect"
   ]
  },
  {
   "cell_type": "code",
   "execution_count": null,
   "metadata": {},
   "outputs": [],
   "source": [
    "# SpellChecker 1: pyspellchecker\n",
    "from spellchecker import SpellChecker # installation: pip install pyspellchecker\n",
    "def spellChecker_pyspellchecker(text):\n",
    "    spell = SpellChecker()\n",
    "    words = spell.split_words(text)\n",
    "    text = [spell.correction(word) for word in words]\n",
    "    return ' '.join(text)\n",
    "# Example:\n",
    "text = \"I havv goood speling int aanglish lol idunno cmputr spellechecke\"\n",
    "print(\"Example\")\n",
    "print(\"before: \", text)\n",
    "print(\"after : \", spellChecker_pyspellchecker(text))\n",
    "\n",
    "#df['cleaned_tweet'] = df['cleaned_tweet'].apply(spellChecker_pyspellchecker)\n",
    "#df.head(5) # tips: uncomment this line to visualize result"
   ]
  },
  {
   "cell_type": "code",
   "execution_count": null,
   "metadata": {},
   "outputs": [],
   "source": [
    "# SpellChecker 2: TextBlob\n",
    "# for more information: https://textblob.readthedocs.io/en/dev/quickstart.html\n",
    "from textblob import TextBlob # installation: pip install textblob\n",
    "def spellChecker_TextBlob(text):\n",
    "    spell = TextBlob(text)\n",
    "    return spell.correct()\n",
    "# Example:\n",
    "text = \"I havv goood speling int aanglish lol idunno cmputr spellechecke\"\n",
    "print(\"Example\")\n",
    "print(\"before: \", text)\n",
    "print(\"after : \", spellChecker_TextBlob(text))\n",
    "\n",
    "df['cleaned_tweet'] = df['cleaned_tweet'].apply(spellChecker_TextBlob)\n",
    "#df.head(5) # tips: uncomment this line to visualize result"
   ]
  },
  {
   "cell_type": "code",
   "execution_count": null,
   "metadata": {},
   "outputs": [],
   "source": [
    "# SpellChecker 3: autocorrect\n",
    "from autocorrect import Speller # installation: pip install autocorrect\n",
    "def spellChecker_autocorrect(text):\n",
    "    spell = Speller(lang='en')\n",
    "    return spell(text)\n",
    "# Example:\n",
    "text = \"I havv goood speling int aanglish lol idunno cmputr spellechecke\"\n",
    "print(\"Example\")\n",
    "print(\"before: \", text)\n",
    "print(\"after : \", spellChecker_autocorrect(text))\n",
    "\n",
    "df['cleaned_tweet'] = df['cleaned_tweet'].apply(spellChecker_autocorrect)\n",
    "#df.head(5) # tips: uncomment this line to visualize result"
   ]
  },
  {
   "cell_type": "markdown",
   "metadata": {},
   "source": [
    "### Please use one of following functions:\n",
    "#### (1) stemmer with Porter : basic\n",
    "#### (2) stemmer with Snowball (Porter2) : recommended\n",
    "#### (3) stemmer with Lancaster : aggresive"
   ]
  },
  {
   "cell_type": "code",
   "execution_count": null,
   "metadata": {},
   "outputs": [],
   "source": [
    "# Stemmer 1: Porter\n",
    "from nltk.stem.porter import *\n",
    "from nltk.tokenize import word_tokenize\n",
    "def stemmer_porter(text):\n",
    "    st = PorterStemmer()\n",
    "    words = text.split()\n",
    "    text = [st.stem(word) for word in words]\n",
    "    return ' '.join(text)\n",
    "# Example:\n",
    "text = \"Such an analysis can reveal features that are not easily visible from the variations in the individual genes.\"\n",
    "print(\"Example\")\n",
    "print(\"before: \", text)\n",
    "print(\"after : \", stemmer_porter(text))\n",
    "\n",
    "#df['cleaned_tweet'] = df['cleaned_tweet'].apply(stemmer_porter)\n",
    "#df.head(5) # tips: uncomment this line to visualize result"
   ]
  },
  {
   "cell_type": "code",
   "execution_count": null,
   "metadata": {},
   "outputs": [],
   "source": [
    "# Stemmer 2: Snowball (Porter2)\n",
    "from nltk.stem.snowball import SnowballStemmer\n",
    "from nltk.tokenize import word_tokenize\n",
    "def stemmer_snowball(text):\n",
    "    st = SnowballStemmer(\"english\", ignore_stopwords=True)\n",
    "    words = text.split()\n",
    "    text = [st.stem(word) for word in words]\n",
    "    return ' '.join(text)\n",
    "# Example:\n",
    "text = \"Such an analysis can reveal features that are not easily visible from the variations in the individual genes.\"\n",
    "print(\"Example\")\n",
    "print(\"before: \", text)\n",
    "print(\"after : \", stemmer_snowball(text))\n",
    "\n",
    "#df['cleaned_tweet'] = df['cleaned_tweet'].apply(stemmer_snowball)\n",
    "#df.head(5) # tips: uncomment this line to visualize result"
   ]
  },
  {
   "cell_type": "code",
   "execution_count": null,
   "metadata": {},
   "outputs": [],
   "source": [
    "# Stemmer 3: Lancaster\n",
    "from nltk.stem import LancasterStemmer\n",
    "from nltk.tokenize import word_tokenize\n",
    "def stemmer_lancaster(text):\n",
    "    st = LancasterStemmer()\n",
    "    words = text.split()\n",
    "    text = [st.stem(word) for word in words]\n",
    "    return ' '.join(text)\n",
    "# Example:\n",
    "text = \"Such an analysis can reveal features that are not easily visible from the variations in the individual genes.\"\n",
    "print(\"Example\")\n",
    "print(\"before: \", text)\n",
    "print(\"after : \", stemmer_lancaster(text))\n",
    "\n",
    "#df['cleaned_tweet'] = df['cleaned_tweet'].apply(stemmer_lancaster)\n",
    "#df.head(5) # tips: uncomment this line to visualize result"
   ]
  },
  {
   "cell_type": "code",
   "execution_count": null,
   "metadata": {},
   "outputs": [],
   "source": []
  },
  {
   "cell_type": "code",
   "execution_count": null,
   "metadata": {},
   "outputs": [],
   "source": []
  },
  {
   "cell_type": "code",
   "execution_count": null,
   "metadata": {},
   "outputs": [],
   "source": []
  },
  {
   "cell_type": "markdown",
   "metadata": {},
   "source": [
    "### Save cleaned dataframe into pickle file"
   ]
  },
  {
   "cell_type": "code",
   "execution_count": null,
   "metadata": {},
   "outputs": [],
   "source": [
    "import datetime\n",
    "now = datetime.datetime.now()\n",
    "#print (\"Current date and time : \")\n",
    "currentTime = now.strftime(\"%Y%m%d-%H%M%S\")\n",
    "pickleName = \"./\" + currentTime + \"_cleanedDataset_.pkl\"\n",
    "df.to_pickle(pickleName)"
   ]
  },
  {
   "cell_type": "markdown",
   "metadata": {},
   "source": [
    "### Read saved pickle file"
   ]
  },
  {
   "cell_type": "code",
   "execution_count": null,
   "metadata": {},
   "outputs": [],
   "source": [
    "import pandas as pd\n",
    "unpickled_df = pd.read_pickle(pickleName)"
   ]
  },
  {
   "cell_type": "code",
   "execution_count": null,
   "metadata": {},
   "outputs": [],
   "source": []
  },
  {
   "cell_type": "markdown",
   "metadata": {},
   "source": [
    "### Divide df into train and test"
   ]
  },
  {
   "cell_type": "code",
   "execution_count": null,
   "metadata": {},
   "outputs": [],
   "source": [
    "# Divide the dataset into train (80%) and test (20%)\n",
    "df_train = df.sample(frac=0.8)\n",
    "df_test = df.drop(df_train.index)\n",
    "print(\"Shape of training and testing dataset: \", df_train.shape, df_test.shape)"
   ]
  },
  {
   "cell_type": "code",
   "execution_count": null,
   "metadata": {},
   "outputs": [],
   "source": [
    "# Visualize META FEATURES\n",
    "import seaborn as sns\n",
    "import matplotlib.pyplot as plt\n",
    "METAFEATURES = ['word_count', 'unique_word_count', 'stop_word_count', \n",
    "                'mean_word_length', 'char_count', 'punctuation_count']\n",
    "\n",
    "HATESPEECH_TWEETS = df_train['class'] == 2\n",
    "OFFENSIVE_TWEETS = df_train['class'] == 1\n",
    "NEITHER_TWEETS = df_train['class'] == 0\n",
    "\n",
    "fig, axes = plt.subplots(ncols=2, nrows=len(METAFEATURES), figsize=(12, 18), dpi=100)\n",
    "\n",
    "for i, feature in enumerate(METAFEATURES):\n",
    "    sns.distplot(df_train.loc[HATESPEECH_TWEETS][feature], label='HateSpeech', ax=axes[i][0], color='red')\n",
    "    sns.distplot(df_train.loc[OFFENSIVE_TWEETS][feature], label='Offensive', ax=axes[i][0], color='yellow')\n",
    "    sns.distplot(df_train.loc[NEITHER_TWEETS][feature], label='Neither', ax=axes[i][0], color='green')\n",
    "\n",
    "    sns.distplot(df_train[feature], label='df_train', ax=axes[i][1])\n",
    "    sns.distplot(df_test[feature], label='df_test', ax=axes[i][1])\n",
    "    \n",
    "    for j in range(2):\n",
    "        axes[i][j].set_xlabel('')\n",
    "        axes[i][j].tick_params(axis='x', labelsize=6)\n",
    "        axes[i][j].tick_params(axis='y', labelsize=6)\n",
    "        axes[i][j].legend()\n",
    "    \n",
    "    axes[i][0].set_title(f'[{feature}] Distribution in df_train', fontsize=9)\n",
    "    axes[i][1].set_title(f'[{feature}] Distribution in df_train & df_test', fontsize=9)\n",
    "\n",
    "plt.show()"
   ]
  },
  {
   "cell_type": "code",
   "execution_count": null,
   "metadata": {},
   "outputs": [],
   "source": [
    "# Visualize\n",
    "fig, axes = plt.subplots(ncols=2, figsize=(8, 3), dpi=100)\n",
    "plt.tight_layout()\n",
    "\n",
    "HATESPEECH_TWEETS = df_train['class'] == 2\n",
    "OFFENSIVE_TWEETS = df_train['class'] == 1\n",
    "NEITHER_TWEETS = df_train['class'] == 0\n",
    "\n",
    "df_train.groupby('class').count()['count'].plot(kind='pie', ax=axes[0], labels=['Neither', 'Offensive', 'HateSpeech'], subplots=True)\n",
    "sns.countplot(x=df_train['class'], hue=df_train['class'], ax=axes[1])\n",
    "\n",
    "axes[0].set_ylabel('')\n",
    "axes[1].set_ylabel('')\n",
    "axes[1].set_xticklabels(['Neither', 'Offensive', 'HateSpeech'])\n",
    "axes[0].tick_params(axis='x', labelsize=6)\n",
    "axes[0].tick_params(axis='y', labelsize=6)\n",
    "axes[1].tick_params(axis='x', labelsize=6)\n",
    "axes[1].tick_params(axis='y', labelsize=6)\n",
    "\n",
    "axes[0].set_title('Target Distribution in Training Set', fontsize=9)\n",
    "axes[1].set_title('Target Count in Training Set', fontsize=9)\n",
    "\n",
    "plt.show()"
   ]
  },
  {
   "cell_type": "code",
   "execution_count": null,
   "metadata": {},
   "outputs": [],
   "source": []
  }
 ],
 "metadata": {
  "kernelspec": {
   "display_name": "Python 3",
   "language": "python",
   "name": "python3"
  },
  "language_info": {
   "codemirror_mode": {
    "name": "ipython",
    "version": 3
   },
   "file_extension": ".py",
   "mimetype": "text/x-python",
   "name": "python",
   "nbconvert_exporter": "python",
   "pygments_lexer": "ipython3",
   "version": "3.7.6"
  }
 },
 "nbformat": 4,
 "nbformat_minor": 4
}
